{
 "cells": [
  {
   "cell_type": "markdown",
   "metadata": {},
   "source": [
    "# Recommender Systems"
   ]
  },
  {
   "cell_type": "markdown",
   "metadata": {},
   "source": [
    "## Loading data (A movie's ratings dataset)"
   ]
  },
  {
   "cell_type": "code",
   "execution_count": 1,
   "metadata": {},
   "outputs": [],
   "source": [
    "import pandas as pd\n",
    "import numpy as np\n",
    "import matplotlib.pyplot as plt\n",
    "from scipy.io import loadmat"
   ]
  },
  {
   "cell_type": "code",
   "execution_count": 72,
   "metadata": {},
   "outputs": [
    {
     "data": {
      "text/plain": [
       "dict_keys(['__header__', '__version__', '__globals__', 'Y', 'R'])"
      ]
     },
     "execution_count": 72,
     "metadata": {},
     "output_type": "execute_result"
    }
   ],
   "source": [
    "data = loadmat('ex8_movies.mat')\n",
    "data.keys()"
   ]
  },
  {
   "cell_type": "code",
   "execution_count": 98,
   "metadata": {},
   "outputs": [],
   "source": [
    "Y = data['Y'] # a (num movies x num users) matrix to store ratings from 1 to 5\n",
    "R = data['R'] # a binary valued indicator matrix, where R(i, j) = 1 \n",
    "              # if user j gave a rating to movie i and 0 otherwise"
   ]
  },
  {
   "cell_type": "code",
   "execution_count": 74,
   "metadata": {},
   "outputs": [
    {
     "name": "stdout",
     "output_type": "stream",
     "text": [
      "The shape of Y is :  (1682, 943)\n",
      "The shape of R is :  (1682, 943)\n"
     ]
    }
   ],
   "source": [
    "print('The shape of Y is : ', Y.shape)\n",
    "print('The shape of R is : ', R.shape)"
   ]
  },
  {
   "cell_type": "code",
   "execution_count": 75,
   "metadata": {},
   "outputs": [],
   "source": [
    "nm = Y.shape[0] #number of movies\n",
    "nu = Y.shape[1] #number of users"
   ]
  },
  {
   "cell_type": "code",
   "execution_count": 99,
   "metadata": {},
   "outputs": [
    {
     "name": "stdout",
     "output_type": "stream",
     "text": [
      "The shape of X is :  (1682, 10)\n",
      "The shape of Theta is:  (943, 10)\n"
     ]
    }
   ],
   "source": [
    "params = loadmat('ex8_movieParams.mat')\n",
    "params.keys()\n",
    "X = params['X'] #features of movies (nm x 10)\n",
    "Theta = params['Theta'] #parameters of each user (nu X 10)\n",
    "print('The shape of X is : ', X.shape)\n",
    "print('The shape of Theta is: ', Theta.shape)"
   ]
  },
  {
   "cell_type": "markdown",
   "metadata": {},
   "source": [
    "### Visualizing the ratings matrix"
   ]
  },
  {
   "cell_type": "code",
   "execution_count": 77,
   "metadata": {},
   "outputs": [
    {
     "data": {
      "image/png": "[encoded data removed]",
      "text/plain": [
       "<Figure size 432x288 with 1 Axes>"
      ]
     },
     "metadata": {
      "needs_background": "light"
     },
     "output_type": "display_data"
    }
   ],
   "source": [
    "plt.imshow(Y)\n",
    "plt.xlabel('Users')\n",
    "plt.ylabel('Movies')\n",
    "plt.show()"
   ]
  },
  {
   "cell_type": "code",
   "execution_count": 78,
   "metadata": {},
   "outputs": [
    {
     "name": "stdout",
     "output_type": "stream",
     "text": [
      "Average rating for movie 1 (Toy Story): 3.8783185840707963 /5\n"
     ]
    }
   ],
   "source": [
    "# Compute average rating \n",
    "print(\"Average rating for movie 1 (Toy Story):\", np.sum(Y[0,:] * R[0,:]) /np.sum(R[0,:]),\"/5\")"
   ]
  },
  {
   "cell_type": "markdown",
   "metadata": {},
   "source": [
    "### Summarizing the notations "
   ]
  },
  {
   "cell_type": "markdown",
   "metadata": {},
   "source": [
    "$ n_{u} = $ number of users\n",
    "\n",
    "$ n_{m} = $ number of movies\n",
    "\n",
    "$ r(i,j) = 1 $ if the user has rated movie i (and 0 if not)\n",
    "\n",
    "$ y(i,j) =  $ rating given by user for the movie i (undefined if user has not rated movie i)\n",
    "\n",
    "$ \\theta^{(j)} = $ parameter vector for user j\n",
    "\n",
    "$ x^{(i)} = $ feature vector for user j"
   ]
  },
  {
   "cell_type": "markdown",
   "metadata": {},
   "source": [
    "## Collaborative filtering learning algorithm "
   ]
  },
  {
   "cell_type": "markdown",
   "metadata": {},
   "source": [
    "### Without Regularization"
   ]
  },
  {
   "cell_type": "markdown",
   "metadata": {},
   "source": [
    "min$_{\\theta^{(1)}, ... , \\theta^{(n_{u})}}  = \\frac{1}{2} \\displaystyle\\sum_{j=1}^{n_{u}} \\displaystyle\\sum_{(i,j):r(i,j)=1} ((\\theta^{(j)})^{T}x^{(i)} - y^{(i,j)})^{2} $"
   ]
  },
  {
   "cell_type": "markdown",
   "metadata": {},
   "source": [
    "The gradients of the cost function are given as:\n",
    "\n",
    "$ \\frac{\\partial J}{\\partial x_{k}^{(i)}} = \\displaystyle\\sum_{(j,r):r(i,j)=1} ((\\theta^{(j)})^{T}x^{(i)} - y^{(i,j)})\\theta_{k}^{(j)}  $\n",
    "\n",
    "$ \\frac{\\partial J}{\\partial \\theta_{k}^{(j)}} = \\displaystyle\\sum_{(i,r):r(i,j)=1} ((\\theta^{(j)})^{T}x^{(i)} - y^{(i,j)})x_{k}^{(i)}  $"
   ]
  },
  {
   "cell_type": "code",
   "execution_count": 79,
   "metadata": {},
   "outputs": [],
   "source": [
    "def collab_filter(X, Y, R, Theta, iterations=200, alpha=0.01):\n",
    "    costs = []\n",
    "    \n",
    "    for iteration in range(iterations):\n",
    "        z = np.dot(X, Theta.T)\n",
    "        errors = z - Y\n",
    "        # error factor - 0 for movies that are not rated - elementwise multiplication of errors with R\n",
    "        error_factor = np.multiply(errors, R)\n",
    "        \n",
    "        # compute cost\n",
    "        sqr_errors = (error_factor ** 2) / 2.0\n",
    "        cost = np.sum(sqr_errors)\n",
    "        costs.append(cost)\n",
    "    \n",
    "        # gradient descent - X\n",
    "        X_update = np.dot(error_factor, Theta)\n",
    "        X -= alpha * X_update\n",
    "    \n",
    "        # gradient descent - Theta\n",
    "        Theta_update = np.dot(error_factor.T, X)\n",
    "        Theta -= alpha * Theta_update\n",
    "    \n",
    "\n",
    "    return costs, Theta, X"
   ]
  },
  {
   "cell_type": "code",
   "execution_count": 100,
   "metadata": {},
   "outputs": [],
   "source": [
    "#Test\n",
    "X1 = np.array(X[:5, :3])\n",
    "Theta1 = np.array(Theta[:4, :3])\n",
    "Y1 = np.array(Y[:5, :4])\n",
    "R1 = np.array(R[:5, :4])"
   ]
  },
  {
   "cell_type": "code",
   "execution_count": 101,
   "metadata": {},
   "outputs": [],
   "source": [
    "cost1, Theta1, X1 = collab_filter(X1, Y1, R1, Theta1, iterations=200, alpha=0.001)"
   ]
  },
  {
   "cell_type": "code",
   "execution_count": 102,
   "metadata": {},
   "outputs": [
    {
     "data": {
      "image/png": "[encoded data removed]",
      "text/plain": [
       "<Figure size 432x288 with 1 Axes>"
      ]
     },
     "metadata": {
      "needs_background": "light"
     },
     "output_type": "display_data"
    }
   ],
   "source": [
    "plt.plot(range(1, len(cost1) + 1), cost1)\n",
    "plt.xlabel(\"Epochs\")\n",
    "plt.ylabel(\"Cost\")\n",
    "plt.show()"
   ]
  },
  {
   "cell_type": "markdown",
   "metadata": {},
   "source": [
    "### With Regularization"
   ]
  },
  {
   "cell_type": "code",
   "execution_count": 87,
   "metadata": {},
   "outputs": [],
   "source": [
    "def collab_filter_reg(X, Y, R, Theta, lambd, iterations=200, alpha=0.01):\n",
    "    costs = []\n",
    "    \n",
    "    for iteration in range(iterations):\n",
    "        product = np.dot(X, Theta.T)\n",
    "        errors = product - Y\n",
    "        # error factor - 0 for movies that are not rated - elementwise multiplication of errors with R\n",
    "        error_factor = np.multiply(errors, R)\n",
    "        \n",
    "        # compute cost\n",
    "        sqr_errors = (error_factor ** 2) / 2.0\n",
    "        cost = np.sum(sqr_errors) + (lambd/2) * np.sum(np.square(Theta)) + (lambd/2) * np.sum(np.square(X))\n",
    "        costs.append(cost)\n",
    "    \n",
    "        # gradient descent - X\n",
    "        X_reg = lambd * X\n",
    "        X_update = np.dot(error_factor, Theta) + X_reg\n",
    "        X -= (alpha * X_update)\n",
    "    \n",
    "        # gradient descent - Theta\n",
    "        Theta_reg = lambd * Theta\n",
    "        Theta_update = np.dot(error_factor.T, X) \n",
    "        Theta -= (alpha * Theta_update)\n",
    "        \n",
    "    return costs, Theta, X"
   ]
  },
  {
   "cell_type": "code",
   "execution_count": 109,
   "metadata": {},
   "outputs": [],
   "source": [
    "#Test\n",
    "X2 = np.array(X[:5, :3])\n",
    "Theta2 = np.array(Theta[:4, :3])\n",
    "Y2 = np.array(Y[:5, :4])\n",
    "R2 = np.array(R[:5, :4])"
   ]
  },
  {
   "cell_type": "code",
   "execution_count": 110,
   "metadata": {},
   "outputs": [],
   "source": [
    "Lambda = 1.5\n",
    "cost_reg, X2, Y2 = collab_filter_reg(X2, Y2, R2, Theta2, Lambda, iterations=200, alpha=0.001)"
   ]
  },
  {
   "cell_type": "code",
   "execution_count": 111,
   "metadata": {},
   "outputs": [
    {
     "name": "stdout",
     "output_type": "stream",
     "text": [
      "The first cost value returned with regularisation is: 31.34405624427422\n"
     ]
    }
   ],
   "source": [
    "print(\"The first cost value returned with regularisation is: {}\".format(cost_reg[0]))"
   ]
  },
  {
   "cell_type": "code",
   "execution_count": 112,
   "metadata": {},
   "outputs": [
    {
     "data": {
      "image/png": "[encoded data removed]",
      "text/plain": [
       "<Figure size 432x288 with 1 Axes>"
      ]
     },
     "metadata": {
      "needs_background": "light"
     },
     "output_type": "display_data"
    }
   ],
   "source": [
    "plt.plot(range(1, len(cost_reg) + 1), cost_reg)\n",
    "plt.title(\"Cost function with regularisation term = 1.5\", )\n",
    "plt.xlabel(\"Epochs\")\n",
    "plt.ylabel(\"Cost\")\n",
    "plt.show()"
   ]
  },
  {
   "cell_type": "markdown",
   "metadata": {},
   "source": [
    "# Learning movie recommendations"
   ]
  },
  {
   "cell_type": "code",
   "execution_count": 128,
   "metadata": {},
   "outputs": [],
   "source": [
    "datafile = loadmat('ex8_movies.mat', struct_as_record=False)\n",
    "R = datafile['R']\n",
    "Y = datafile['Y']\n",
    "params_file = loadmat('ex8_movieParams.mat', struct_as_record=False)\n",
    "Theta = params_file['Theta']\n",
    "X = params_file['X']"
   ]
  },
  {
   "cell_type": "code",
   "execution_count": 114,
   "metadata": {},
   "outputs": [
    {
     "name": "stdout",
     "output_type": "stream",
     "text": [
      "The shape of Y is :  (1682, 943)\n",
      "The shape of R is :  (1682, 943)\n",
      "The shape of X is :  (1682, 10)\n",
      "The shape of Theta is:  (943, 10)\n"
     ]
    }
   ],
   "source": [
    "print('The shape of Y is : ', Y.shape)\n",
    "print('The shape of R is : ', R.shape)\n",
    "print('The shape of X is : ', X.shape)\n",
    "print('The shape of Theta is: ', Theta.shape)"
   ]
  },
  {
   "cell_type": "code",
   "execution_count": 116,
   "metadata": {},
   "outputs": [],
   "source": [
    "cost_movie = collab_filter_reg(X, Y, R, Theta, lambd=1.0, iterations=1000, alpha=0.0005)"
   ]
  },
  {
   "cell_type": "code",
   "execution_count": 119,
   "metadata": {},
   "outputs": [],
   "source": [
    "costs, Theta, X = cost_movie"
   ]
  },
  {
   "cell_type": "code",
   "execution_count": 120,
   "metadata": {},
   "outputs": [
    {
     "data": {
      "image/png": "[encoded data removed]",
      "text/plain": [
       "<Figure size 432x288 with 1 Axes>"
      ]
     },
     "metadata": {
      "needs_background": "light"
     },
     "output_type": "display_data"
    }
   ],
   "source": [
    "plt.plot(range(1, len(costs) + 1), costs)\n",
    "plt.title(\"Cost function with regularisation term = 1.0\")\n",
    "plt.xlabel(\"Epochs\")\n",
    "plt.ylabel(\"Cost\")\n",
    "plt.show()"
   ]
  },
  {
   "cell_type": "code",
   "execution_count": 121,
   "metadata": {},
   "outputs": [],
   "source": [
    "def normalizeRatings(Y, R):\n",
    "    \"\"\"\n",
    "    normalized Y so that each movie has a rating of 0 on average, and returns the mean rating in Ymean.\n",
    "    \"\"\"\n",
    "    \n",
    "    nm, nu = Y.shape\n",
    "    Ynorm = np.zeros((nm, nu))\n",
    "    Ymean = np.sum(Y, axis = 1) / np.count_nonzero(R, axis = 1)\n",
    "    Ymean = Ymean[:, np.newaxis]\n",
    "    for i in range(nm):\n",
    "        Ynorm[i, R[i,:]==1] = Y[i,R[i,:]==1] - Ymean[i]\n",
    "        \n",
    "    return Ynorm, Ymean"
   ]
  },
  {
   "cell_type": "code",
   "execution_count": 129,
   "metadata": {},
   "outputs": [],
   "source": [
    "R = datafile['R']\n",
    "Y = datafile['Y']\n",
    "Theta = params_file['Theta']\n",
    "X = params_file['X']"
   ]
  },
  {
   "cell_type": "code",
   "execution_count": 130,
   "metadata": {},
   "outputs": [],
   "source": [
    "Ynorm, Ymean = normalizeRatings(Y, R)"
   ]
  },
  {
   "cell_type": "code",
   "execution_count": 131,
   "metadata": {},
   "outputs": [],
   "source": [
    "num_users = Y.shape[1]\n",
    "num_movies = Y.shape[0]\n",
    "num_features = 10\n",
    "\n",
    "# Set initial Parameters (Theta,X)\n",
    "X = np.random.randn(num_movies, num_features)\n",
    "Theta = np.random.randn(num_users, num_features)\n",
    "Lambda = 1\n",
    "\n",
    "# Optimize parameters using Gradient Descent\n",
    "J = collab_filter_reg(X, Y, R, Theta, lambd=Lambda, iterations=1000, alpha=0.0005)"
   ]
  },
  {
   "cell_type": "code",
   "execution_count": 132,
   "metadata": {},
   "outputs": [],
   "source": [
    "costs, Theta, X = J"
   ]
  },
  {
   "cell_type": "code",
   "execution_count": 133,
   "metadata": {},
   "outputs": [
    {
     "data": {
      "image/png": "[encoded data removed]",
      "text/plain": [
       "<Figure size 432x288 with 1 Axes>"
      ]
     },
     "metadata": {
      "needs_background": "light"
     },
     "output_type": "display_data"
    }
   ],
   "source": [
    "plt.plot(range(1, len(costs) + 1), costs)\n",
    "plt.title(\"Cost function with regularisation term = 1.0\")\n",
    "plt.xlabel(\"Epochs\")\n",
    "plt.ylabel(\"Cost\")\n",
    "plt.show()"
   ]
  },
  {
   "cell_type": "code",
   "execution_count": null,
   "metadata": {},
   "outputs": [],
   "source": []
  }
 ],
 "metadata": {
  "kernelspec": {
   "display_name": "Python 3.7 (tensorflow)",
   "language": "python",
   "name": "tensorflow"
  },
  "language_info": {
   "codemirror_mode": {
    "name": "ipython",
    "version": 3
   },
   "file_extension": ".py",
   "mimetype": "text/x-python",
   "name": "python",
   "nbconvert_exporter": "python",
   "pygments_lexer": "ipython3",
   "version": "3.7.3"
  }
 },
 "nbformat": 4,
 "nbformat_minor": 2
}
